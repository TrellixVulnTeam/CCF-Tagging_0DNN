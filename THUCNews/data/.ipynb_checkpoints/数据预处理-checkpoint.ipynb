{
 "cells": [
  {
   "cell_type": "markdown",
   "metadata": {},
   "source": [
    "处理未标签数据 对每个样本都检测时候有分类标签 如果这个样本只有一个标签 则认为这个样本是属于这个标签的"
   ]
  },
  {
   "cell_type": "code",
   "execution_count": 10,
   "metadata": {},
   "outputs": [],
   "source": [
    "import pandas as pd\n",
    "import random\n",
    "import csv\n",
    "from sklearn.utils import shuffle"
   ]
  },
  {
   "cell_type": "code",
   "execution_count": 3,
   "metadata": {},
   "outputs": [],
   "source": [
    "df = pd.read_csv(\"./data.csv\", engine=\"python\", encoding=\"utf_8_sig\")\n",
    "labels = [\"财经\",\"房产\",'家居','教育','科技','时尚','时政','游戏','娱乐','体育']\n",
    "id_list = []\n",
    "content_list = []\n",
    "label_list = []\n",
    "label_count = {}\n",
    "for i in range(df.shape[0]):\n",
    "    count = []\n",
    "    for j in range(len(labels)):\n",
    "        df.iloc[i][1]\n",
    "        if labels[j] in df.iloc[i][1]:\n",
    "            count.append(j)\n",
    "    if len(count)==1:\n",
    "        if labels[count[0]] not in label_count:\n",
    "            label_count[labels[count[0]]] = 0\n",
    "        label_count[labels[count[0]]] += 1\n",
    "        temp = pd.DataFrame([df.iloc[i][0],df.iloc[i][1]], [\"id\",\"content\"])\n",
    "        id_list.append(df.iloc[i][0])\n",
    "        content_list.append(df.iloc[i][1])\n",
    "        label_list.append(labels[count[0]])\n",
    "new_dict = {\"id\":id_list, \"class_label\":label_list, \"content\":content_list}\n",
    "new_df = pd.DataFrame(new_dict)\n",
    "new_df.to_csv(\"./train/newdata_from_unlabeled_data.csv\", index=False)"
   ]
  },
  {
   "cell_type": "markdown",
   "metadata": {},
   "source": [
    "对两个数据样本融合"
   ]
  },
  {
   "cell_type": "code",
   "execution_count": 4,
   "metadata": {},
   "outputs": [],
   "source": [
    "df1 = pd.read_csv(\"./train/labeled_data.csv\", engine=\"python\", encoding=\"utf_8_sig\")\n",
    "df2 = pd.read_csv(\"./train/newdata_from_unlabeled_data.csv\")\n",
    "# 内容的列表\n",
    "content_list = []\n",
    "# 标签的列表\n",
    "labels_list = []\n",
    "for i in range(df1.shape[0]):\n",
    "    # 对数据进行第一步的清洗\n",
    "    s = df1.iloc[i][2].replace(\" \", \"\").replace(\"\\t\", \"\").replace(\"\\n\", \"\").replace(chr(12288),\"\").replace(chr(8195),\"\")\n",
    "    content_list.append(s)\n",
    "    labels_list.append(labels.index(df1.iloc[i][1]))\n",
    "    \n",
    "for i in range(df2.shape[0]):\n",
    "    s = df2.iloc[i][2].replace(\" \", \"\").replace(\"\\t\", \"\").replace(\"\\n\", \"\").replace(chr(12288),\"\").replace(chr(8195),\"\")\n",
    "    content_list.append([s])\n",
    "    labels_list.append(labels.index(df2.iloc[i][1]))"
   ]
  },
  {
   "cell_type": "code",
   "execution_count": 17,
   "metadata": {},
   "outputs": [
    {
     "name": "stdout",
     "output_type": "stream",
     "text": [
      "          id class_label\n",
      "0          0          财经\n",
      "1          1          教育\n",
      "2          2          体育\n",
      "3          4          时政\n",
      "4          6          房产\n",
      "...      ...         ...\n",
      "21281  30653          时政\n",
      "21282  30654          娱乐\n",
      "21283  30655          时尚\n",
      "21284  30656          教育\n",
      "21285  30657          财经\n",
      "\n",
      "[21286 rows x 2 columns]\n",
      "      class_label                                            content\n",
      "0               7  原神相信很快就是可以和大家见面了相信不少的小伙伴都是非常期待的也是有很多的小伙伴非常期待的那...\n",
      "1               8  由青年导演孙传林执导何为魏嘉镁贺云庆韩伯维等领衔主演的青春轻喜剧电影今日正式登陆全国院线据悉...\n",
      "2               7  由奥斯卡最佳原创剧本提名导演斯蒂文·奈特执导奥斯卡影帝马修·麦康纳与奥斯卡最佳女配安妮·海瑟...\n",
      "3               8  ·住总万科天地定位京北智慧产城创新中心灵感源于美国硅谷以硅谷的创新为原点沿袭硅谷的产学城发展...\n",
      "4               3  北京工业大学信息学部教师党支部开展我的首都我建设支部共建活动围绕不忘初心牢记使命主题教育贯彻...\n",
      "...           ...                                                ...\n",
      "9337            0  什么是期货操盘手操盘手不是狭义上的一个人可以是个人也可以是机构通常来说操盘手是被委托者他们需...\n",
      "9338            3  光明网讯在中华人民共和国成立周年之际在风景如画的黄河之滨有这样一群团结奋进的师生他们扎实推进...\n",
      "9339            0  期货哪里开户好用户可以在期货公司进行开户也可以在中国期货监控中心的上进行开户打开中国期货监控...\n",
      "9340            6  理想信念动摇是最危险的动摇思想上出现滑坡是最严重的病变党员干部如果在思想防线上有所松动甚至降...\n",
      "9341            2  近年来随着社会经济发展及装修需求的改变在家装方面越来越多的消费者对家居空间追求产品空间人的个...\n",
      "\n",
      "[9342 rows x 2 columns]\n",
      "       class_label                                            content\n",
      "0             10.0  区块链正在以前所未有的速度发展根据数据年中国区块链市场支出规模达亿美元到年有望达到亿美元复合...\n",
      "1             10.0  明天就是儿童节了连篇累牍的校园性侵事件为我们纪念这个节日平添了沉重的注脚当然历史而言儿童节本...\n",
      "2             10.0  世界排名第二的罗马尼亚名将哈勒普宣布由于新冠肺炎疫情的蔓延她决定不参加即将开战的美国网球公开...\n",
      "3             10.0  教你用几毛钱做瓷砖清洁剂清洁阿姨都不知道准备一瓶毫升的矿泉水倒出一半取一瓶盖的肥皂粉取两瓶盖...\n",
      "4             10.0  昨天国家卫生计生委召开例行新闻发布会围绕食品安全相关工作及社会热点答记者问到年底多项食品安全...\n",
      "...            ...                                                ...\n",
      "30653         10.0  中新网长春月日电记者崔颜锋经吉林省政府重大瓦斯事故调查组初步核实吉林省吉煤集团通化矿业公司八...\n",
      "30654         10.0  近日由金牌编剧董润年导演并编剧黄渤王珞丹谭卓白客黄璐宋春丽文淇领衔主演丁溪鹤李嘉琪吕星辰主演...\n",
      "30655         10.0  首先夕阳中婚纱的粉色不只是光线问题设计稿中裙摆和头纱的下摆都是渐变的浅粉色\\t而与众不同的头...\n",
      "30656         10.0  月日贵州省高考评卷工作专题组长培训会在贵州师范大学举行对今年高考评卷工作提出了严格要求我省今...\n",
      "30657         10.0  下面大宗网小编为您整理一下新股佰仁医疗的相关内容希望对打新的小伙伴有所帮助公司简介经营范围生...\n",
      "\n",
      "[30658 rows x 2 columns]\n"
     ]
    }
   ],
   "source": [
    "df1 = pd.read_csv(\"./count5_label.csv\", engine=\"python\", encoding=\"utf_8_sig\")\n",
    "df2 = pd.read_csv(\"./data_train.csv\", engine=\"python\", encoding=\"utf_8_sig\")\n",
    "df3 = pd.read_csv(\"./data_neg.csv\", engine=\"python\", encoding=\"utf_8_sig\")\n",
    "print(df1)\n",
    "print(df2)\n",
    "print(df3)"
   ]
  },
  {
   "cell_type": "code",
   "execution_count": 21,
   "metadata": {},
   "outputs": [
    {
     "name": "stderr",
     "output_type": "stream",
     "text": [
      "  0%|                                                                              | 8/21286 [00:00<00:13, 1604.55it/s]\n"
     ]
    },
    {
     "ename": "ValueError",
     "evalue": "'科学' is not in list",
     "output_type": "error",
     "traceback": [
      "\u001b[1;31m---------------------------------------------------------------------------\u001b[0m",
      "\u001b[1;31mValueError\u001b[0m                                Traceback (most recent call last)",
      "\u001b[1;32m<ipython-input-21-6d90323064ed>\u001b[0m in \u001b[0;36m<module>\u001b[1;34m\u001b[0m\n\u001b[0;32m      5\u001b[0m \u001b[1;32mfor\u001b[0m \u001b[0mi\u001b[0m \u001b[1;32min\u001b[0m \u001b[0mtqdm\u001b[0m\u001b[1;33m(\u001b[0m\u001b[0mrange\u001b[0m\u001b[1;33m(\u001b[0m\u001b[0mdf1\u001b[0m\u001b[1;33m.\u001b[0m\u001b[0mshape\u001b[0m\u001b[1;33m[\u001b[0m\u001b[1;36m0\u001b[0m\u001b[1;33m]\u001b[0m\u001b[1;33m)\u001b[0m\u001b[1;33m)\u001b[0m\u001b[1;33m:\u001b[0m\u001b[1;33m\u001b[0m\u001b[1;33m\u001b[0m\u001b[0m\n\u001b[0;32m      6\u001b[0m     \u001b[0mcontent_list\u001b[0m\u001b[1;33m.\u001b[0m\u001b[0mappend\u001b[0m\u001b[1;33m(\u001b[0m\u001b[0mdf3\u001b[0m\u001b[1;33m.\u001b[0m\u001b[0miloc\u001b[0m\u001b[1;33m[\u001b[0m\u001b[0mdf1\u001b[0m\u001b[1;33m.\u001b[0m\u001b[0miloc\u001b[0m\u001b[1;33m[\u001b[0m\u001b[0mi\u001b[0m\u001b[1;33m]\u001b[0m\u001b[1;33m[\u001b[0m\u001b[1;36m0\u001b[0m\u001b[1;33m]\u001b[0m\u001b[1;33m]\u001b[0m\u001b[1;33m[\u001b[0m\u001b[1;36m1\u001b[0m\u001b[1;33m]\u001b[0m\u001b[1;33m)\u001b[0m\u001b[1;33m\u001b[0m\u001b[1;33m\u001b[0m\u001b[0m\n\u001b[1;32m----> 7\u001b[1;33m     \u001b[0mlabel_list\u001b[0m\u001b[1;33m.\u001b[0m\u001b[0mappend\u001b[0m\u001b[1;33m(\u001b[0m\u001b[0mlabels\u001b[0m\u001b[1;33m.\u001b[0m\u001b[0mindex\u001b[0m\u001b[1;33m(\u001b[0m\u001b[0mdf1\u001b[0m\u001b[1;33m.\u001b[0m\u001b[0miloc\u001b[0m\u001b[1;33m[\u001b[0m\u001b[0mi\u001b[0m\u001b[1;33m]\u001b[0m\u001b[1;33m[\u001b[0m\u001b[1;36m1\u001b[0m\u001b[1;33m]\u001b[0m\u001b[1;33m)\u001b[0m\u001b[1;33m)\u001b[0m\u001b[1;33m\u001b[0m\u001b[1;33m\u001b[0m\u001b[0m\n\u001b[0m\u001b[0;32m      8\u001b[0m \u001b[0mprint\u001b[0m\u001b[1;33m(\u001b[0m\u001b[0mcontent_list\u001b[0m\u001b[1;33m)\u001b[0m\u001b[1;33m\u001b[0m\u001b[1;33m\u001b[0m\u001b[0m\n\u001b[0;32m      9\u001b[0m \u001b[0mprint\u001b[0m\u001b[1;33m(\u001b[0m\u001b[0mlabel_list\u001b[0m\u001b[1;33m)\u001b[0m\u001b[1;33m\u001b[0m\u001b[1;33m\u001b[0m\u001b[0m\n",
      "\u001b[1;31mValueError\u001b[0m: '科学' is not in list"
     ]
    }
   ],
   "source": [
    "from tqdm import tqdm\n",
    "content_list = []\n",
    "label_list = []\n",
    "labels = [\"财经\",\"房产\",'家居','教育','科技','时尚','时政','游戏','娱乐','体育']\n",
    "for i in tqdm(range(df1.shape[0])):\n",
    "    content_list.append(df3.iloc[df1.iloc[i][0]][1])\n",
    "    label_list.append(labels.index(df1.iloc[i][1]))\n",
    "print(content_list)\n",
    "print(label_list)"
   ]
  },
  {
   "cell_type": "code",
   "execution_count": 8,
   "metadata": {},
   "outputs": [],
   "source": [
    "shuffle(df)\n",
    "slice1 = df.shape[0] * 0.7\n",
    "slice2 = df.shape[0] * 0.9\n",
    "train = df.loc[:slice1]\n",
    "dev = df.loc[slice1:slice2]\n",
    "test = df.loc[slice2:]\n",
    "train.to_csv(\"./train.csv\", index=False,header=False)\n",
    "dev.to_csv(\"./dev.csv\", index=False,header=False)\n",
    "test.to_csv(\"./test.csv\", index=False,header=False)"
   ]
  },
  {
   "cell_type": "code",
   "execution_count": 9,
   "metadata": {},
   "outputs": [
    {
     "name": "stdout",
     "output_type": "stream",
     "text": [
      "      class_label                                            content\n",
      "36023           1  世茂西山龙胤位置位于北京海淀北部新区翠湖湿地公园毗邻故宫北院区作为世茂集团产品序列龙胤系的开...\n",
      "36024           8  月日报道改编自东野圭吾同名经典文学作品由苏有朋执导王凯领衔主演的电影即将在月日上映近日片方公...\n",
      "36025           6  中秋国庆将至为加强警示教育营造清正廉洁的节日氛围坚决防止四风反弹回潮不断巩固深化作风建设成果...\n",
      "36026           1  周五月日上午郑政经开出〔〕号地出让地块位于经开第街以东经开第街以西经南十二路以南经南十三路以...\n",
      "36027           5  é系列顶级腕表唯有上乘的材质搭配满腔热忱的工匠才能打造出名副其实的奢侈克里斯汀·迪奥如是说迪...\n",
      "...           ...                                                ...\n",
      "40020           7  剑与远征中的公会里边也是有着可以让玩家们去挑战的比如这个狩猎剑魂这个是一个非常强力的相信不少...\n",
      "40021           8  月日由欢瑞世纪出品东阳华恒影视重庆广播电视集团总台霍尔果斯卓达影视重庆银龙影视联合出品的热血...\n",
      "40022           7  都说是一场专属于开发者的软件发布会但在今年的上最值得关注的却是苹果为打造的自研芯片当我们听到...\n",
      "40023           6  ­人民网北京月日电据民政部网站消息截至月日时统计月日以来长江中下游地区及淮河流域遭受的洪涝灾...\n",
      "40024           2  九月开启走出了暖色调的夏天秋高气爽的季节又将来临如果金黄色是这个季节的自然搭档色那么回归室内...\n",
      "\n",
      "[4002 rows x 2 columns]\n",
      "      class_label                                            content\n",
      "0               7  救赎之地中玩家可以通过苟活的方式来增加排名奖励的不过那么要怎么样做才能在这个模式之下苟住生存...\n",
      "1               0  如何利用反弹孕线选股孕线选股公式股价上涨下跌反弹这些都是股市常见的形态但在这些状态中选择潜力...\n",
      "2               0  周二无夜盘全天动力煤期货弱势承压全球疫情继续蔓延各国救市政策加快原油价格大幅走低拖累能源化工...\n",
      "3               0  中国天保集团发布公告公司拟发行亿股最终发售价定为每股港元所得款项净额约为亿港元每手股预期月日...\n",
      "4               0  年月香港恒生指数公布恒生指数系列年二季度检讨结果融创中国同时入选恒生中国香港上市指数和恒生中...\n",
      "...           ...                                                ...\n",
      "28013           2  近日越南胡志明市国际家具及家具配件展的主办方宣布展会将延期至年月日日举行  越南胡志明国际家...\n",
      "28014           3  ­高考中考接踵而至暑假即将来临又到了校外辅导机构的招生旺季记者日前采访北京市西城区人民法院了...\n",
      "28015           6  四中全会明确提出坚持和完善中国特色社会主义制度推进国家治理体系和治理能力现代化的总体目标是到...\n",
      "28016           8  毛舜筠右跟凌文龙中余安安互揽合照北京时间月日消息据香港媒体报道毛舜筠凭电影荣膺香港电影金像奖...\n",
      "28017           8  昨日月日第届华语青年影像论坛在北京举行媒体沟通会揭晓了新锐演员导演等多个奖项的入围名单中国电...\n",
      "\n",
      "[28018 rows x 2 columns]\n",
      "      class_label                                            content\n",
      "28018           2  大家想了解什么是全屋智能吗今天我们来了解一下北京天润福熙大道二期的全屋智能化装修因为天润福熙...\n",
      "28019           8  由康曦影业出品焦永亮执导何侯擇任总制片人倪娜任制片人于朦胧毛晓彤领衔主演的热血青春竞技电视剧...\n",
      "28020           6  月日陕西渭南市富平县多名农民工下跪讨薪控诉益丰置业公司拖欠工钱这家开发商没钱付工资有钱请明星...\n",
      "28021           0  期货市场交易中是具有杠杆效应的而在实战中有的投资者承受不了杠杆带来的损失就会选择退出市场消除...\n",
      "28022           3  记者月日从内蒙古自治区党委政法委获悉内蒙古自治区党委决定罗永纲任内蒙古自治区党委政法委员会书...\n",
      "...           ...                                                ...\n",
      "36018           3  月日南方医科大学研究生院官方网站公布了文件显示根据教育部第三十条和第三十七条有关规定该校拟对...\n",
      "36019           0  美国石油学会发布的数据显示截止月日当周美国原油库存亿桶比前周增加万桶汽油库存增加万桶馏分油库...\n",
      "36020           4  荣耀联动在京东平台购买荣耀系列便有机会获得限量创造营礼盒诸多网友和粉丝被该礼盒种草月日晚荣耀...\n",
      "36021           0  国务院办公厅关于促进金融租赁行业健康发展的指导意见国办发〔〕号各省自治区直辖市人民政府国务院...\n",
      "36022           0  据最新消息显示中新集团中签结果已于昨天晚上正式出炉了中签号码共有个每个中签号码只能认购股中新...\n",
      "\n",
      "[8005 rows x 2 columns]\n"
     ]
    }
   ],
   "source": [
    "print(test)\n",
    "print(train)\n",
    "print(dev)"
   ]
  },
  {
   "cell_type": "code",
   "execution_count": null,
   "metadata": {},
   "outputs": [],
   "source": []
  }
 ],
 "metadata": {
  "kernelspec": {
   "display_name": "Python 3",
   "language": "python",
   "name": "python3"
  },
  "language_info": {
   "codemirror_mode": {
    "name": "ipython",
    "version": 3
   },
   "file_extension": ".py",
   "mimetype": "text/x-python",
   "name": "python",
   "nbconvert_exporter": "python",
   "pygments_lexer": "ipython3",
   "version": "3.8.3"
  }
 },
 "nbformat": 4,
 "nbformat_minor": 4
}
