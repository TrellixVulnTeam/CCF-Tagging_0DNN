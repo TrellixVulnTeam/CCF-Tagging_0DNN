{
 "cells": [
  {
   "cell_type": "markdown",
   "metadata": {},
   "source": [
    "处理未标签数据 对每个样本都检测时候有分类标签 如果这个样本只有一个标签 则认为这个样本是属于这个标签的"
   ]
  },
  {
   "cell_type": "code",
   "execution_count": 2,
   "metadata": {},
   "outputs": [],
   "source": [
    "import pandas as pd\n",
    "import random\n",
    "import csv\n",
    "from sklearn.utils import shuffle"
   ]
  },
  {
   "cell_type": "code",
   "execution_count": 3,
   "metadata": {},
   "outputs": [],
   "source": [
    "df = pd.read_csv(\"./data.csv\", engine=\"python\", encoding=\"utf_8_sig\")\n",
    "labels = [\"财经\",\"房产\",'家居','教育','科技','时尚','时政','游戏','娱乐','体育']\n",
    "id_list = []\n",
    "content_list = []\n",
    "label_list = []\n",
    "label_count = {}\n",
    "for i in range(df.shape[0]):\n",
    "    count = []\n",
    "    for j in range(len(labels)):\n",
    "        df.iloc[i][1]\n",
    "        if labels[j] in df.iloc[i][1]:\n",
    "            count.append(j)\n",
    "    if len(count)==1:\n",
    "        if labels[count[0]] not in label_count:\n",
    "            label_count[labels[count[0]]] = 0\n",
    "        label_count[labels[count[0]]] += 1\n",
    "        temp = pd.DataFrame([df.iloc[i][0],df.iloc[i][1]], [\"id\",\"content\"])\n",
    "        id_list.append(df.iloc[i][0])\n",
    "        content_list.append(df.iloc[i][1])\n",
    "        label_list.append(labels[count[0]])\n",
    "new_dict = {\"id\":id_list, \"class_label\":label_list, \"content\":content_list}\n",
    "new_df = pd.DataFrame(new_dict)\n",
    "new_df.to_csv(\"./train/newdata_from_unlabeled_data.csv\", index=False)"
   ]
  },
  {
   "cell_type": "markdown",
   "metadata": {},
   "source": [
    "对两个数据样本融合"
   ]
  },
  {
   "cell_type": "code",
   "execution_count": 4,
   "metadata": {},
   "outputs": [],
   "source": [
    "df1 = pd.read_csv(\"./train/labeled_data.csv\", engine=\"python\", encoding=\"utf_8_sig\")\n",
    "df2 = pd.read_csv(\"./train/newdata_from_unlabeled_data.csv\")\n",
    "# 内容的列表\n",
    "content_list = []\n",
    "# 标签的列表\n",
    "labels_list = []\n",
    "for i in range(df1.shape[0]):\n",
    "    # 对数据进行第一步的清洗\n",
    "    s = df1.iloc[i][2].replace(\" \", \"\").replace(\"\\t\", \"\").replace(\"\\n\", \"\").replace(chr(12288),\"\").replace(chr(8195),\"\")\n",
    "    content_list.append(s)\n",
    "    labels_list.append(labels.index(df1.iloc[i][1]))\n",
    "    \n",
    "for i in range(df2.shape[0]):\n",
    "    s = df2.iloc[i][2].replace(\" \", \"\").replace(\"\\t\", \"\").replace(\"\\n\", \"\").replace(chr(12288),\"\").replace(chr(8195),\"\")\n",
    "    content_list.append([s])\n",
    "    labels_list.append(labels.index(df2.iloc[i][1]))"
   ]
  },
  {
   "cell_type": "code",
   "execution_count": null,
   "metadata": {},
   "outputs": [],
   "source": [
    "df = pd.read_csv(\"./data.csv\", engine=\"python\", encoding=\"utf_8_sig\")\n",
    "df"
   ]
  },
  {
   "cell_type": "code",
   "execution_count": 7,
   "metadata": {},
   "outputs": [],
   "source": [
    "shuffle(df)\n",
    "slice1 = \n",
    "train = new_df.loc[0:10485]\n",
    "dev = new_df.loc[10485:13980]\n",
    "test = new_df.loc[13980:17475]\n",
    "train.to_csv(\"./train.txt\", index=False,header=False)\n",
    "dev.to_csv(\"./dev.txt\", index=False,header=False)\n",
    "test.to_csv(\"./test.txt\", index=False,header=False)"
   ]
  },
  {
   "cell_type": "code",
   "execution_count": null,
   "metadata": {},
   "outputs": [],
   "source": []
  }
 ],
 "metadata": {
  "kernelspec": {
   "display_name": "Python 3",
   "language": "python",
   "name": "python3"
  },
  "language_info": {
   "codemirror_mode": {
    "name": "ipython",
    "version": 3
   },
   "file_extension": ".py",
   "mimetype": "text/x-python",
   "name": "python",
   "nbconvert_exporter": "python",
   "pygments_lexer": "ipython3",
   "version": "3.8.3"
  }
 },
 "nbformat": 4,
 "nbformat_minor": 4
}
